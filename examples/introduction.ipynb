{
 "cells": [
  {
   "cell_type": "markdown",
   "metadata": {},
   "source": [
    "# Introduction to VSC-PRC\n",
    "\n",
    "This notebook provides an introduction to VSC-PRC, with basic examples of common iRODS operations such as transferring data and modifying metadata.\n",
    "\n",
    "Before launching this notebook, make sure that:\n",
    "* you have set up (VSC-)PRC as described in `README.rst`\n",
    "* you have valid iRODS access tokens"
   ]
  },
  {
   "cell_type": "markdown",
   "metadata": {},
   "source": [
    "## The VSCiRODSSession class\n",
    "\n",
    "With the Python modules in place, you should be able to import the `VSCiRODSSession` class as follows:"
   ]
  },
  {
   "cell_type": "code",
   "execution_count": null,
   "metadata": {},
   "outputs": [],
   "source": [
    "from vsc_irods.session import VSCiRODSSession"
   ]
  },
  {
   "cell_type": "markdown",
   "metadata": {},
   "source": [
    "This class is derived from PRC's `irods.iRODSSession` class, and as such you can still use it to do what PRC is capable off (see https://github.com/irods/python-irodsclient). Here, we will focus on the functionality that is added by VSC-PRC.\n",
    "\n",
    "As for `irods.iRODSSession`, the `vsc_irods.VSCiRODSSession` class is best initiated using the ``with`` construct to ensure that the session is cleanly terminated, even if an error occurs. In addition to the keyword arguments for `irods.iRODSSession`, it also accepts a `txt` argument. This specifies where the session's print output should be directed to, with the default '-' referring to stdout.\n",
    "\n",
    "## Transferring data to iRODS\n",
    "\n",
    "Let's create a new iRODS collection `vsc-prc-intro` inside your iRODS home, and copy the whole `data` folder under `vsc-python-irodsclient/test/` to that location. This `data` folder mainly consists of a set of molecular geometries in XYZ format, for testing purposes.  "
   ]
  },
  {
   "cell_type": "code",
   "execution_count": null,
   "metadata": {},
   "outputs": [],
   "source": [
    "import os\n",
    "\n",
    "# Path on your local file system\n",
    "local_path = os.path.join(os.path.expandvars('$VSC_PRC_ROOT'), 'test/data')\n",
    "\n",
    "# Path on the iRODS file system\n",
    "# Note the tilde (~), referring to your irods_home\n",
    "irods_path = '~/vsc-prc-intro'\n",
    "\n",
    "with VSCiRODSSession(txt='-') as session:\n",
    "    session.path.imkdir(irods_path)\n",
    "    session.bulk.put(local_path, irods_path=irods_path, recurse=True, verbose=True)"
   ]
  },
  {
   "cell_type": "markdown",
   "metadata": {},
   "source": [
    "## Searching on iRODS\n",
    "\n",
    "We can use the `search.find()` method to list the destination collection on iRODS and make sure everything is there:"
   ]
  },
  {
   "cell_type": "code",
   "execution_count": null,
   "metadata": {},
   "outputs": [],
   "source": [
    "print('This is what we got on our side:')\n",
    "for directory, subdirectories, files in os.walk(local_path):\n",
    "    print(directory)\n",
    "    for f in files:\n",
    "        print(os.path.join(directory, f))\n",
    "\n",
    "print('\\nThis is what we got on iRODS:')\n",
    "with VSCiRODSSession(txt='-') as session:\n",
    "    for item in session.search.find(irods_path, types='d,f'):\n",
    "        print(item)"
   ]
  },
  {
   "cell_type": "markdown",
   "metadata": {},
   "source": [
    "# Modifying metadata\n",
    "\n",
    "Next, we will add some metadata to all XYZ files in `~/vsc-prc-intro/data/molecules`:"
   ]
  },
  {
   "cell_type": "code",
   "execution_count": null,
   "metadata": {},
   "outputs": [],
   "source": [
    "avu = ('Creator', 'YourName')  # Attribute-Value pair\n",
    "\n",
    "with VSCiRODSSession(txt='-') as session:\n",
    "    session.bulk.metadata(irods_path + '/data/molecules/*.xyz', object_avu=avu, action='add', verbose=True)"
   ]
  },
  {
   "cell_type": "markdown",
   "metadata": {},
   "source": [
    "So far, we have been passing simple [glob](https://docs.python.org/3/library/glob.html) patterns to the various operators in ``session.bulk`` to select collections and data objects based on their paths.\n",
    "For more advanced selections, e.g. based on metadata, we can supply an [Iterator](https://wiki.python.org/moin/Iterator) instead, for example the one provided by `session.search.find` itself.\n",
    "\n",
    "As an illustration, let's create an iterator for matching files that have the metadata we just added, and use it to remove that metadata:"
   ]
  },
  {
   "cell_type": "code",
   "execution_count": null,
   "metadata": {},
   "outputs": [],
   "source": [
    "with VSCiRODSSession(txt='-') as session:\n",
    "    iterator = session.search.find(irods_path, object_avu=avu)\n",
    "    session.bulk.metadata(iterator, object_avu=avu, action='remove', verbose=True)"
   ]
  },
  {
   "cell_type": "markdown",
   "metadata": {},
   "source": [
    "## Getting data from iRODS\n",
    "\n",
    "Copying data objects and collections on iRODS to the local file system happens in a similar way using `session.bulk.get()`:"
   ]
  },
  {
   "cell_type": "code",
   "execution_count": null,
   "metadata": {},
   "outputs": [],
   "source": [
    "with VSCiRODSSession(txt='-') as session:\n",
    "    iterator = session.search.find(irods_path, pattern='*.txt')\n",
    "    session.bulk.get(iterator, local_path='.', verbose=True)"
   ]
  },
  {
   "cell_type": "markdown",
   "metadata": {},
   "source": [
    "This should have transferred the only matching file, called `molecule_names.txt`.\n",
    "In this case, this is also equivalent with:"
   ]
  },
  {
   "cell_type": "code",
   "execution_count": null,
   "metadata": {},
   "outputs": [],
   "source": [
    "with VSCiRODSSession(txt='-') as session:\n",
    "    # Adding the 'force=True' option to overwrite the local ./molecule_names.txt file\n",
    "    session.bulk.get(irods_path + '/*/*.txt', local_path='.', force=True, verbose=True)"
   ]
  },
  {
   "cell_type": "markdown",
   "metadata": {},
   "source": [
    "## Removing data on iRODS\n",
    "\n",
    "We'll now clean up by removing the root collection for this tutorial (`~/vsc-prc-intro/`). Here, the `force=True` option really removes the collection, i.e. without moving it to the trash. "
   ]
  },
  {
   "cell_type": "code",
   "execution_count": null,
   "metadata": {},
   "outputs": [],
   "source": [
    "with VSCiRODSSession(txt='-') as session:\n",
    "    session.bulk.remove(irods_path, recurse=True, force=True, verbose=True)"
   ]
  }
 ],
 "metadata": {
  "kernelspec": {
   "display_name": "Python 3",
   "language": "python",
   "name": "python3"
  },
  "language_info": {
   "codemirror_mode": {
    "name": "ipython",
    "version": 3
   },
   "file_extension": ".py",
   "mimetype": "text/x-python",
   "name": "python",
   "nbconvert_exporter": "python",
   "pygments_lexer": "ipython3",
   "version": "3.7.7"
  }
 },
 "nbformat": 4,
 "nbformat_minor": 4
}
